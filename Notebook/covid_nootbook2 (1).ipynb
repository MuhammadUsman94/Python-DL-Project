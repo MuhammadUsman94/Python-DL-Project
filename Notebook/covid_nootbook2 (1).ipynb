{
  "nbformat": 4,
  "nbformat_minor": 0,
  "metadata": {
    "colab": {
      "name": "covid_nootbook2.ipynb",
      "provenance": [],
      "collapsed_sections": []
    },
    "kernelspec": {
      "name": "python3",
      "display_name": "Python 3"
    },
    "language_info": {
      "name": "python"
    },
    "accelerator": "GPU"
  },
  "cells": [
    {
      "cell_type": "code",
      "metadata": {
        "id": "s5o3ou9y2Jez"
      },
      "source": [
        "# Data preprocessing\n",
        "import numpy as np\n",
        "import pandas as pd \n",
        "import seaborn as sns\n",
        "import matplotlib.pyplot as plt\n",
        "import matplotlib.image as mpimg\n",
        "from matplotlib.offsetbox import OffsetImage, AnnotationBbox\n",
        "from glob import glob\n",
        "from PIL import Image\n",
        "import os\n",
        "import random\n",
        "import cv2\n",
        "#Model\n",
        "import keras\n",
        "from keras.models import Sequential, Model,load_model\n",
        "from keras.layers import Activation,Dense, Dropout, Flatten, Conv2D, MaxPooling2D,MaxPool2D,AveragePooling2D,GlobalMaxPooling2D\n",
        "from keras import backend as K\n",
        "from keras.wrappers.scikit_learn import KerasClassifier\n",
        "# from keras.layers.normalization import BatchNormalization\n",
        "from keras.utils.np_utils import to_categorical # convert to one-hot-encoding\n",
        "from keras import regularizers\n",
        "# from keras.optimizers import Adam, SGD\n",
        "from keras.preprocessing.image import ImageDataGenerator,array_to_img\n",
        "from keras.callbacks import ReduceLROnPlateau, EarlyStopping,ModelCheckpoint\n",
        "from keras.metrics import PrecisionAtRecall,Recall \n",
        "#Model Analysis\n",
        "from sklearn.metrics import confusion_matrix\n",
        "from sklearn.metrics import precision_recall_fscore_support, accuracy_score\n",
        "\n",
        "\n",
        "from tensorflow.keras.layers import (\n",
        "    BatchNormalization, SeparableConv2D, MaxPooling2D, Activation, Flatten, Dropout, Dense\n",
        ")\n",
        "\n",
        "from tensorflow.keras.optimizers import Adam, SGD # - Works\n",
        "\n",
        "\n",
        "from numpy.random import seed\n",
        "seed(0)\n",
        "import tensorflow\n",
        "tensorflow.random.set_seed(0)"
      ],
      "execution_count": 1,
      "outputs": []
    },
    {
      "cell_type": "code",
      "metadata": {
        "colab": {
          "base_uri": "https://localhost:8080/"
        },
        "id": "AW62FCJJ2TSf",
        "outputId": "bea05636-1118-4338-9123-9b0650077087"
      },
      "source": [
        "from google.colab import drive\n",
        "drive.mount('/content/drive')"
      ],
      "execution_count": 1,
      "outputs": [
        {
          "output_type": "stream",
          "name": "stdout",
          "text": [
            "Mounted at /content/drive\n"
          ]
        }
      ]
    },
    {
      "cell_type": "code",
      "metadata": {
        "id": "9I22zThF2ohA"
      },
      "source": [
        "train_path = '/content/drive/MyDrive/data/COVID-19_Radiography_Dataset/Train_Split_Test/train'\n",
        "\n",
        "diag_code_dict = {\n",
        "    'COVID': 0,\n",
        "    'Normal': 1,\n",
        "    'Viral Pneumonia': 2}\n",
        "\n",
        "diag_title_dict = {\n",
        "    'COVID': 'Covid-19',\n",
        "    'Normal': 'Healthy',\n",
        "    'Viral Pneumonia': 'Viral Pneumonia'}\n",
        "\n",
        "imageid_path_dict = {os.path.splitext(os.path.basename(x))[0]: x for x in glob(os.path.join(train_path, '*','*.png'))}\n",
        "\n",
        "covidData = pd.DataFrame.from_dict(imageid_path_dict, orient = 'index').reset_index()\n",
        "covidData.columns = ['image_id','train_path']\n",
        "classes = covidData.image_id.str.split('-').str[0]\n",
        "covidData['diag'] = classes\n",
        "covidData['target'] = covidData['diag'].map(diag_code_dict.get) \n",
        "covidData['Class'] = covidData['diag'].map(diag_title_dict.get) "
      ],
      "execution_count": 4,
      "outputs": []
    },
    {
      "cell_type": "code",
      "metadata": {
        "colab": {
          "base_uri": "https://localhost:8080/"
        },
        "id": "LqRbOEM82--X",
        "outputId": "9d464e7c-d072-4eac-c5a7-15ae31cded9d"
      },
      "source": [
        "samples,features = covidData.shape\n",
        "duplicated = covidData.duplicated().sum()\n",
        "null_values = covidData.isnull().sum().sum()\n",
        "\n",
        "print('Basic EDA')\n",
        "print('Number of samples: %d'%(samples))\n",
        "print('Number of duplicated values: %d'%(duplicated))\n",
        "print('Number of Null samples: %d' % (null_values))"
      ],
      "execution_count": null,
      "outputs": [
        {
          "output_type": "stream",
          "name": "stdout",
          "text": [
            "Basic EDA\n",
            "Number of samples: 0\n",
            "Number of duplicated values: 0\n",
            "Number of Null samples: 0\n"
          ]
        }
      ]
    },
    {
      "cell_type": "code",
      "metadata": {
        "colab": {
          "base_uri": "https://localhost:8080/",
          "height": 473
        },
        "id": "Foaf0nSb3KrQ",
        "outputId": "90948040-70da-4cee-b69c-1ae367dd455e"
      },
      "source": [
        "#Samples per class\n",
        "plt.figure(figsize=(20,8))\n",
        "sns.set(style=\"ticks\", font_scale = 1)\n",
        "ax = sns.countplot(data = covidData,x='Class',order = covidData['Class'].value_counts().index,palette=\"flare\")\n",
        "sns.despine(top=True, right=True, left=True, bottom=False)\n",
        "plt.xticks(rotation=0,fontsize = 12)\n",
        "ax.set_xlabel('Sample Type - Diagnosis',fontsize = 14,weight = 'bold')\n",
        "ax.set(yticklabels=[])\n",
        "ax.axes.get_yaxis().set_visible(False) \n",
        "plt.title('Number of Samples per Class', fontsize = 16,weight = 'bold');\n",
        "#Plot numbers\n",
        "for p in ax.patches:\n",
        "    ax.annotate(\"%.1f%%\" % (100*float(p.get_height()/samples)), (p.get_x() + p.get_width() / 2., abs(p.get_height())),\n",
        "    ha='center', va='bottom', color='black', xytext=(0, 10),rotation = 'horizontal',\n",
        "    textcoords='offset points')"
      ],
      "execution_count": null,
      "outputs": [
        {
          "output_type": "display_data",
          "data": {
            "image/png": "[encoded data removed]",
            "text/plain": [
              "<Figure size 1440x576 with 1 Axes>"
            ]
          },
          "metadata": {
            "needs_background": "light"
          }
        }
      ]
    },
    {
      "cell_type": "code",
      "metadata": {
        "id": "IB0EkV6S3SF1"
      },
      "source": [
        "# covidData['image'] = covidData['path'].map(lambda x: np.asarray(Image.open(x).resize((75,75))))"
      ],
      "execution_count": null,
      "outputs": []
    },
    {
      "cell_type": "code",
      "metadata": {
        "id": "pWhwSi0TNOoo"
      },
      "source": [
        "train_path = '/content/drive/MyDrive/data/COVID-19_Radiography_Dataset/Train_Split_Test/train'\n",
        "test_path = '/content/drive/MyDrive/data/COVID-19_Radiography_Dataset/Train_Split_Test/test'\n",
        "val_path = '/content/drive/MyDrive/data/COVID-19_Radiography_Dataset/Train_Split_Test/val'"
      ],
      "execution_count": null,
      "outputs": []
    },
    {
      "cell_type": "code",
      "metadata": {
        "id": "sIf8rqgnS8pB"
      },
      "source": [
        "#Define the parameters to create the training and validation set Images and Data Augmentation parameters\n",
        "train_datagen = ImageDataGenerator(rescale=1./255,\n",
        "                                   rotation_range=20,\n",
        "                                   width_shift_range=0.2,\n",
        "                                   height_shift_range=0.2,\n",
        "                                   horizontal_flip=True,\n",
        "                                   validation_split=0.2)\n",
        "\n",
        "val_datagen = ImageDataGenerator(rescale = 1./255)\n",
        "\n",
        "\n",
        "test_datagen = ImageDataGenerator(rescale = 1./255)"
      ],
      "execution_count": null,
      "outputs": []
    },
    {
      "cell_type": "code",
      "metadata": {
        "colab": {
          "base_uri": "https://localhost:8080/"
        },
        "id": "_aJf1etSTOVk",
        "outputId": "303520a9-b8ba-494e-8244-94988e17ab95"
      },
      "source": [
        "batch_size = 16\n",
        "\n",
        "train_gen = train_datagen.flow_from_directory(train_path,\n",
        "                                                 target_size = (224, 224), \n",
        "                                                 batch_size = batch_size,\n",
        "                                                 shuffle=True, \n",
        "                                                 class_mode = \"categorical\")\n",
        "\n",
        "val_gen = val_datagen.flow_from_directory(val_path,\n",
        "                                          target_size = (224, 224),\n",
        "                                          batch_size = batch_size,\n",
        "                                          shuffle=True,\n",
        "                                          class_mode = 'categorical')\n",
        "\n",
        "test_gen = test_datagen.flow_from_directory(test_path,\n",
        "                                            target_size = (224, 224),\n",
        "                                            batch_size = batch_size,\n",
        "                                            class_mode = 'binary')"
      ],
      "execution_count": null,
      "outputs": [
        {
          "output_type": "stream",
          "name": "stdout",
          "text": [
            "Found 12121 images belonging to 3 classes.\n",
            "Found 1514 images belonging to 3 classes.\n",
            "Found 1518 images belonging to 3 classes.\n"
          ]
        }
      ]
    },
    {
      "cell_type": "code",
      "metadata": {
        "colab": {
          "base_uri": "https://localhost:8080/"
        },
        "id": "RBHzgPTv8I92",
        "outputId": "978ac5a1-3691-4046-899b-7ee79572602a"
      },
      "source": [
        "# checking the index of classes\n",
        "classes = train_gen.class_indices    \n",
        "print(classes)"
      ],
      "execution_count": null,
      "outputs": [
        {
          "output_type": "stream",
          "name": "stdout",
          "text": [
            "{'COVID': 0, 'Normal': 1, 'Viral Pneumonia': 2}\n"
          ]
        }
      ]
    },
    {
      "cell_type": "markdown",
      "metadata": {
        "id": "YGuP5zTKUlH0"
      },
      "source": [
        "# 1st: Kaggle Model"
      ]
    },
    {
      "cell_type": "code",
      "metadata": {
        "id": "ZmDd8KNq7lww"
      },
      "source": [
        "model = Sequential()\n",
        "model.add(Conv2D(32, kernel_size=(3, 3),activation='relu',padding = 'Same',input_shape=(256, 256, 3)))\n",
        "model.add(BatchNormalization())\n",
        "##############################\n",
        "model.add(Conv2D(64, (3, 3), activation='relu',padding = 'Same'))\n",
        "model.add(BatchNormalization())\n",
        "model.add(AveragePooling2D(pool_size = (2, 2)))\n",
        "model.add(Dropout(0.25))\n",
        "\n",
        "model.add(Conv2D(64, (3, 3), activation='relu',padding = 'Same'))\n",
        "model.add(BatchNormalization())\n",
        "\n",
        "model.add(Conv2D(64, (3, 3), activation='relu',padding = 'Same'))\n",
        "model.add(BatchNormalization())\n",
        "model.add(AveragePooling2D(pool_size=(2, 2)))\n",
        "model.add(Dropout(0.25))\n",
        "##############################\n",
        "model.add(Conv2D(64, (3, 3), activation='relu',padding = 'Same'))\n",
        "model.add(BatchNormalization())\n",
        "model.add(AveragePooling2D(pool_size = (2, 2)))\n",
        "model.add(Dropout(0.25))\n",
        "\n",
        "model.add(Conv2D(64, (3, 3), activation='relu',padding = 'Same'))\n",
        "model.add(BatchNormalization())\n",
        "\n",
        "model.add(Conv2D(64, (3, 3), activation='relu',padding = 'Same'))\n",
        "model.add(BatchNormalization())\n",
        "model.add(AveragePooling2D(pool_size=(2, 2)))\n",
        "model.add(Dropout(0.25))\n",
        "##############################\n",
        "model.add(Flatten())\n",
        "\n",
        "model.add(BatchNormalization())\n",
        "model.add(Dense(128, activation='relu'))\n",
        "model.add(Activation('relu'))\n",
        "model.add(Dropout(0.25))\n",
        "\n",
        "#Output\n",
        "model.add(BatchNormalization())\n",
        "model.add(Dense(num_classes, activation='softmax'))\n",
        "#Compile the model\n",
        "opt = Adam(learning_rate=0.002, beta_1=0.9, beta_2=0.999, epsilon=None, decay=0.01, amsgrad=False)\n",
        "model.compile(optimizer=opt, loss='categorical_crossentropy', metrics=[Recall()])"
      ],
      "execution_count": null,
      "outputs": []
    },
    {
      "cell_type": "code",
      "metadata": {
        "colab": {
          "base_uri": "https://localhost:8080/"
        },
        "id": "-SfxSGpx8rWI",
        "outputId": "b3d7283c-aba8-40f2-ebae-f667760932c3"
      },
      "source": [
        "#Model Parameters\n",
        "epochs = 100\n",
        "\n",
        "#Callbacks\n",
        "learning_rate_reduction = ReduceLROnPlateau(monitor='val_loss', patience = 10, verbose=1, factor=0.5, min_lr=0.00001)\n",
        "early_stopping_monitor = EarlyStopping(patience=10,monitor='val_loss', mode = 'min',verbose=1)\n",
        "\n",
        "callbacks_list = [learning_rate_reduction,early_stopping_monitor]\n",
        "\n",
        "#Verbose set to 0 to avoid Notebook visual pollution\n",
        "history = model.fit(train_gen, steps_per_epoch=len(train_gen) // batch_size, \n",
        "                                validation_steps=len(val_gen) // batch_size, \n",
        "                                validation_data=val_gen, epochs=epochs,callbacks=[callbacks_list],\n",
        "                                verbose=1)\n",
        "#Predict Results on test set\n",
        "# y_pred = model.predict(test_gen)\n",
        "model.save('/content/drive/MyDrive/Final_Covid/COVID-19_Radiography_Dataset/saved_model/Kagglemodel.h5')"
      ],
      "execution_count": null,
      "outputs": [
        {
          "output_type": "stream",
          "name": "stdout",
          "text": [
            "Epoch 1/100\n",
            "47/47 [==============================] - 48s 1s/step - loss: 0.5329 - recall_1: 0.7487 - val_loss: 0.4157 - val_recall_1: 0.8250 - lr: 5.0000e-04\n",
            "Epoch 2/100\n",
            "47/47 [==============================] - 51s 1s/step - loss: 0.5030 - recall_1: 0.7473 - val_loss: 0.4098 - val_recall_1: 0.8125 - lr: 5.0000e-04\n",
            "Epoch 3/100\n",
            "47/47 [==============================] - 40s 861ms/step - loss: 0.5619 - recall_1: 0.7329 - val_loss: 0.5431 - val_recall_1: 0.8000 - lr: 5.0000e-04\n",
            "Epoch 4/100\n",
            "47/47 [==============================] - 47s 999ms/step - loss: 0.5470 - recall_1: 0.7340 - val_loss: 0.2715 - val_recall_1: 0.8875 - lr: 5.0000e-04\n",
            "Epoch 5/100\n",
            "47/47 [==============================] - 44s 937ms/step - loss: 0.5123 - recall_1: 0.7527 - val_loss: 0.3202 - val_recall_1: 0.8375 - lr: 5.0000e-04\n",
            "Epoch 6/100\n",
            "47/47 [==============================] - 40s 841ms/step - loss: 0.5140 - recall_1: 0.7434 - val_loss: 0.3848 - val_recall_1: 0.8125 - lr: 5.0000e-04\n",
            "Epoch 7/100\n",
            "47/47 [==============================] - 46s 982ms/step - loss: 0.4971 - recall_1: 0.7513 - val_loss: 0.4035 - val_recall_1: 0.8250 - lr: 5.0000e-04\n",
            "Epoch 8/100\n",
            "47/47 [==============================] - 34s 718ms/step - loss: 0.5103 - recall_1: 0.7620 - val_loss: 0.4847 - val_recall_1: 0.8125 - lr: 5.0000e-04\n",
            "Epoch 9/100\n",
            "47/47 [==============================] - 37s 778ms/step - loss: 0.5364 - recall_1: 0.7487 - val_loss: 0.3368 - val_recall_1: 0.8375 - lr: 5.0000e-04\n",
            "Epoch 10/100\n",
            "47/47 [==============================] - 34s 731ms/step - loss: 0.4988 - recall_1: 0.7606 - val_loss: 0.4703 - val_recall_1: 0.7750 - lr: 5.0000e-04\n",
            "Epoch 11/100\n",
            "47/47 [==============================] - 30s 646ms/step - loss: 0.5398 - recall_1: 0.7380 - val_loss: 0.3224 - val_recall_1: 0.8500 - lr: 5.0000e-04\n",
            "Epoch 12/100\n",
            "47/47 [==============================] - 30s 631ms/step - loss: 0.5075 - recall_1: 0.7633 - val_loss: 0.2977 - val_recall_1: 0.9125 - lr: 5.0000e-04\n",
            "Epoch 13/100\n",
            "47/47 [==============================] - 29s 607ms/step - loss: 0.5532 - recall_1: 0.7274 - val_loss: 0.3239 - val_recall_1: 0.8500 - lr: 5.0000e-04\n",
            "Epoch 14/100\n",
            "47/47 [==============================] - ETA: 0s - loss: 0.5247 - recall_1: 0.7593\n",
            "Epoch 00014: ReduceLROnPlateau reducing learning rate to 0.0002500000118743628.\n",
            "47/47 [==============================] - 32s 685ms/step - loss: 0.5247 - recall_1: 0.7593 - val_loss: 0.4957 - val_recall_1: 0.8000 - lr: 5.0000e-04\n",
            "Epoch 00014: early stopping\n"
          ]
        }
      ]
    },
    {
      "cell_type": "code",
      "metadata": {
        "id": "HnRg5oM5VYrJ"
      },
      "source": [
        "# Model performance graph"
      ],
      "execution_count": null,
      "outputs": []
    },
    {
      "cell_type": "code",
      "metadata": {
        "id": "OcQSt83kVd8h"
      },
      "source": [
        "# Model calassification report"
      ],
      "execution_count": null,
      "outputs": []
    },
    {
      "cell_type": "markdown",
      "metadata": {
        "id": "og4teWtXVj4t"
      },
      "source": [
        "# VGG16"
      ]
    },
    {
      "cell_type": "code",
      "metadata": {
        "id": "-Nl1dOHnKTpe"
      },
      "source": [
        "import tensorflow as tf"
      ],
      "execution_count": null,
      "outputs": []
    },
    {
      "cell_type": "code",
      "metadata": {
        "id": "HsAUSQnAJStW"
      },
      "source": [
        "from keras.applications.vgg16 import VGG16\n"
      ],
      "execution_count": null,
      "outputs": []
    },
    {
      "cell_type": "code",
      "metadata": {
        "id": "c7HP9GQ2JUXT"
      },
      "source": [
        "model_vgg16 = Sequential()\n",
        "model_vgg16.add(Conv2D(input_shape=(256,256,3),filters=64,kernel_size=(3,3),padding=\"same\", activation=\"relu\"))\n",
        "model_vgg16.add(Conv2D(filters=64,kernel_size=(3,3),padding=\"same\", activation=\"relu\"))\n",
        "model_vgg16.add(MaxPool2D(pool_size=(2,2),strides=(2,2)))\n",
        "\n",
        "model_vgg16.add(Conv2D(filters=128, kernel_size=(3,3), padding=\"same\", activation=\"relu\"))\n",
        "model_vgg16.add(Conv2D(filters=128, kernel_size=(3,3), padding=\"same\", activation=\"relu\"))\n",
        "model_vgg16.add(MaxPool2D(pool_size=(2,2),strides=(2,2)))\n",
        "\n",
        "model_vgg16.add(Conv2D(filters=256, kernel_size=(3,3), padding=\"same\", activation=\"relu\"))\n",
        "model_vgg16.add(Conv2D(filters=256, kernel_size=(3,3), padding=\"same\", activation=\"relu\"))\n",
        "model_vgg16.add(Conv2D(filters=256, kernel_size=(3,3), padding=\"same\", activation=\"relu\"))\n",
        "model_vgg16.add(MaxPool2D(pool_size=(2,2),strides=(2,2)))\n",
        "\n",
        "model_vgg16.add(Conv2D(filters=512, kernel_size=(3,3), padding=\"same\", activation=\"relu\"))\n",
        "model_vgg16.add(Conv2D(filters=512, kernel_size=(3,3), padding=\"same\", activation=\"relu\"))\n",
        "model_vgg16.add(Conv2D(filters=512, kernel_size=(3,3), padding=\"same\", activation=\"relu\"))\n",
        "model_vgg16.add(MaxPool2D(pool_size=(2,2),strides=(2,2)))\n",
        "\n",
        "model_vgg16.add(Conv2D(filters=512, kernel_size=(3,3), padding=\"same\", activation=\"relu\"))\n",
        "model_vgg16.add(Conv2D(filters=512, kernel_size=(3,3), padding=\"same\", activation=\"relu\"))\n",
        "model_vgg16.add(Conv2D(filters=512, kernel_size=(3,3), padding=\"same\", activation=\"relu\"))\n",
        "model_vgg16.add(MaxPool2D(pool_size=(2,2),strides=(2,2)))\n",
        "\n",
        "model_vgg16.add(Flatten())\n",
        "model_vgg16.add(Dense(units=4096,activation=\"relu\"))\n",
        "model_vgg16.add(Dense(units=4096,activation=\"relu\"))\n",
        "model_vgg16.add(Dense(units=3, activation=\"softmax\"))\n"
      ],
      "execution_count": null,
      "outputs": []
    },
    {
      "cell_type": "code",
      "metadata": {
        "colab": {
          "base_uri": "https://localhost:8080/"
        },
        "id": "Mm8DVVLaJa72",
        "outputId": "dcd4c57c-bcc2-4e52-902e-e05bb239838c"
      },
      "source": [
        "\n",
        "print(model_vgg16.summary())"
      ],
      "execution_count": null,
      "outputs": [
        {
          "output_type": "stream",
          "name": "stdout",
          "text": [
            "Model: \"sequential\"\n",
            "_________________________________________________________________\n",
            " Layer (type)                Output Shape              Param #   \n",
            "=================================================================\n",
            " conv2d (Conv2D)             (None, 256, 256, 64)      1792      \n",
            "                                                                 \n",
            " conv2d_1 (Conv2D)           (None, 256, 256, 64)      36928     \n",
            "                                                                 \n",
            " max_pooling2d (MaxPooling2D  (None, 128, 128, 64)     0         \n",
            " )                                                               \n",
            "                                                                 \n",
            " conv2d_2 (Conv2D)           (None, 128, 128, 128)     73856     \n",
            "                                                                 \n",
            " conv2d_3 (Conv2D)           (None, 128, 128, 128)     147584    \n",
            "                                                                 \n",
            " max_pooling2d_1 (MaxPooling  (None, 64, 64, 128)      0         \n",
            " 2D)                                                             \n",
            "                                                                 \n",
            " conv2d_4 (Conv2D)           (None, 64, 64, 256)       295168    \n",
            "                                                                 \n",
            " conv2d_5 (Conv2D)           (None, 64, 64, 256)       590080    \n",
            "                                                                 \n",
            " conv2d_6 (Conv2D)           (None, 64, 64, 256)       590080    \n",
            "                                                                 \n",
            " max_pooling2d_2 (MaxPooling  (None, 32, 32, 256)      0         \n",
            " 2D)                                                             \n",
            "                                                                 \n",
            " conv2d_7 (Conv2D)           (None, 32, 32, 512)       1180160   \n",
            "                                                                 \n",
            " conv2d_8 (Conv2D)           (None, 32, 32, 512)       2359808   \n",
            "                                                                 \n",
            " conv2d_9 (Conv2D)           (None, 32, 32, 512)       2359808   \n",
            "                                                                 \n",
            " max_pooling2d_3 (MaxPooling  (None, 16, 16, 512)      0         \n",
            " 2D)                                                             \n",
            "                                                                 \n",
            " conv2d_10 (Conv2D)          (None, 16, 16, 512)       2359808   \n",
            "                                                                 \n",
            " conv2d_11 (Conv2D)          (None, 16, 16, 512)       2359808   \n",
            "                                                                 \n",
            " conv2d_12 (Conv2D)          (None, 16, 16, 512)       2359808   \n",
            "                                                                 \n",
            " max_pooling2d_4 (MaxPooling  (None, 8, 8, 512)        0         \n",
            " 2D)                                                             \n",
            "                                                                 \n",
            " flatten (Flatten)           (None, 32768)             0         \n",
            "                                                                 \n",
            " dense (Dense)               (None, 4096)              134221824 \n",
            "                                                                 \n",
            " dense_1 (Dense)             (None, 4096)              16781312  \n",
            "                                                                 \n",
            " dense_2 (Dense)             (None, 3)                 12291     \n",
            "                                                                 \n",
            "=================================================================\n",
            "Total params: 165,730,115\n",
            "Trainable params: 165,730,115\n",
            "Non-trainable params: 0\n",
            "_________________________________________________________________\n",
            "None\n"
          ]
        }
      ]
    },
    {
      "cell_type": "code",
      "metadata": {
        "id": "-a-XdgG-LyyZ"
      },
      "source": [
        "opt = Adam(learning_rate=0.01)\n",
        "model_vgg16.compile(optimizer=opt, loss=keras.losses.categorical_crossentropy, metrics=['accuracy'])"
      ],
      "execution_count": null,
      "outputs": []
    },
    {
      "cell_type": "code",
      "metadata": {
        "id": "jP3fr1MpLaz9"
      },
      "source": [
        "#Model Parameters\n",
        "epochs = 100\n",
        "\n",
        "#Callbacks\n",
        "learning_rate_reduction = ReduceLROnPlateau(monitor='val_loss', patience = 10, verbose=1, factor=0.5, min_lr=0.00001)\n",
        "early_stopping_monitor = EarlyStopping(patience=15 ,monitor='val_loss', mode = 'min',verbose=1)\n",
        "\n",
        "callbacks_list = [learning_rate_reduction,early_stopping_monitor]\n",
        "\n",
        "#Verbose set to 0 to avoid Notebook visual pollution\n",
        "history1 = model_vgg16.fit(train_gen, steps_per_epoch=len(train_gen) // batch_size, \n",
        "                                validation_steps=len(val_gen) // batch_size, \n",
        "                                validation_data=val_gen, epochs=epochs,callbacks=[callbacks_list],\n",
        "                                verbose=1)\n",
        "#Predict Results on test set\n",
        "# y_pred = model.predict(test_gen)\n",
        "model.save('/content/drive/MyDrive/Final_Covid/COVID-19_Radiography_Dataset/saved_model/VGG16.h5')"
      ],
      "execution_count": null,
      "outputs": []
    },
    {
      "cell_type": "code",
      "metadata": {
        "colab": {
          "base_uri": "https://localhost:8080/"
        },
        "id": "TeoPHfHdm56S",
        "outputId": "4684d901-b5d4-453b-a236-3a34f3d541c6"
      },
      "source": [
        "...\n",
        "# list all data in history\n",
        "print(history1.history.keys())"
      ],
      "execution_count": null,
      "outputs": [
        {
          "output_type": "stream",
          "name": "stdout",
          "text": [
            "dict_keys(['loss', 'accuracy', 'val_loss', 'val_accuracy', 'lr'])\n"
          ]
        }
      ]
    },
    {
      "cell_type": "code",
      "metadata": {
        "colab": {
          "base_uri": "https://localhost:8080/",
          "height": 301
        },
        "id": "5TBwJZW4m_it",
        "outputId": "f320c400-5c64-47af-eed3-7e59d8a76157"
      },
      "source": [
        "# summarize history for accuracy\n",
        "plt.plot(history1.history['accuracy'])\n",
        "plt.plot(history1.history['val_accuracy'])\n",
        "plt.title('model accuracy')\n",
        "plt.ylabel('accuracy')\n",
        "plt.xlabel('epoch')\n",
        "plt.legend(['train', 'test'], loc='upper left')\n",
        "plt.show()"
      ],
      "execution_count": null,
      "outputs": [
        {
          "output_type": "display_data",
          "data": {
            "image/png": "[encoded data removed]",
            "text/plain": [
              "<Figure size 432x288 with 1 Axes>"
            ]
          },
          "metadata": {}
        }
      ]
    },
    {
      "cell_type": "code",
      "metadata": {
        "colab": {
          "base_uri": "https://localhost:8080/",
          "height": 301
        },
        "id": "BqZNRpXHu8ir",
        "outputId": "8bf38bf6-3e66-4133-f35e-caa08cab0724"
      },
      "source": [
        "# summarize history for loss\n",
        "plt.plot(history1.history['loss'])\n",
        "plt.plot(history1.history['val_loss'])\n",
        "plt.title('model loss')\n",
        "plt.ylabel('loss')\n",
        "plt.xlabel('epoch')\n",
        "plt.legend(['train', 'test'], loc='upper left')\n",
        "plt.show()"
      ],
      "execution_count": null,
      "outputs": [
        {
          "output_type": "display_data",
          "data": {
            "image/png": "[encoded data removed]",
            "text/plain": [
              "<Figure size 432x288 with 1 Axes>"
            ]
          },
          "metadata": {}
        }
      ]
    },
    {
      "cell_type": "code",
      "metadata": {
        "id": "It4ISxcdnTXj"
      },
      "source": [
        "# Classification report\n",
        "predictions = model_vgg16.predict(test_gen)\n",
        "\n",
        "# Classification Report\n",
        "from sklearn.metrics import classification_report\n",
        "print(classification_report(test_gen, predictions))"
      ],
      "execution_count": null,
      "outputs": []
    },
    {
      "cell_type": "markdown",
      "metadata": {
        "id": "o69PK4mltdIG"
      },
      "source": [
        "# Pre-Trained VGG16"
      ]
    },
    {
      "cell_type": "code",
      "metadata": {
        "id": "U4Tp3A4nthHs",
        "colab": {
          "base_uri": "https://localhost:8080/"
        },
        "outputId": "9a6d3329-a917-4a02-e300-1b32cb5ec7e9"
      },
      "source": [
        "from tensorflow.keras.applications import VGG16\n",
        "vgg_model = VGG16(weights='imagenet', include_top=False, input_shape=(224, 224, 3))"
      ],
      "execution_count": null,
      "outputs": [
        {
          "output_type": "stream",
          "name": "stdout",
          "text": [
            "Downloading data from https://storage.googleapis.com/tensorflow/keras-applications/vgg16/vgg16_weights_tf_dim_ordering_tf_kernels_notop.h5\n",
            "58892288/58889256 [==============================] - 1s 0us/step\n",
            "58900480/58889256 [==============================] - 1s 0us/step\n"
          ]
        }
      ]
    },
    {
      "cell_type": "code",
      "metadata": {
        "colab": {
          "base_uri": "https://localhost:8080/"
        },
        "id": "A6cIt7aStxJq",
        "outputId": "8721acce-e401-4ae0-83c7-39f8d5c1e930"
      },
      "source": [
        "# Freeze four convolution blocks\n",
        "for layer in vgg_model.layers[:15]:\n",
        "    layer.trainable = False\n",
        "# Make sure you have frozen the correct layers\n",
        "for i, layer in enumerate(vgg_model.layers):\n",
        "    print(i, layer.name, layer.trainable)"
      ],
      "execution_count": null,
      "outputs": [
        {
          "output_type": "stream",
          "name": "stdout",
          "text": [
            "0 input_1 False\n",
            "1 block1_conv1 False\n",
            "2 block1_conv2 False\n",
            "3 block1_pool False\n",
            "4 block2_conv1 False\n",
            "5 block2_conv2 False\n",
            "6 block2_pool False\n",
            "7 block3_conv1 False\n",
            "8 block3_conv2 False\n",
            "9 block3_conv3 False\n",
            "10 block3_pool False\n",
            "11 block4_conv1 False\n",
            "12 block4_conv2 False\n",
            "13 block4_conv3 False\n",
            "14 block4_pool False\n",
            "15 block5_conv1 True\n",
            "16 block5_conv2 True\n",
            "17 block5_conv3 True\n",
            "18 block5_pool True\n"
          ]
        }
      ]
    },
    {
      "cell_type": "code",
      "metadata": {
        "id": "BgbwkRZRuAZZ"
      },
      "source": [
        "x = vgg_model.output\n",
        "x = Flatten()(x) # Flatten dimensions to for use in FC layers\n",
        "x = Dense(512, activation='relu')(x)\n",
        "x = Dropout(0.5)(x) # Dropout layer to reduce overfitting\n",
        "x = Dense(256, activation='relu')(x)\n",
        "x = Dense(3, activation='softmax')(x) # Softmax for multiclass\n",
        "transfer_model = Model(inputs=vgg_model.input, outputs=x)"
      ],
      "execution_count": null,
      "outputs": []
    },
    {
      "cell_type": "code",
      "metadata": {
        "id": "-NurimmIurBS"
      },
      "source": [
        "from keras.callbacks import ReduceLROnPlateau\n",
        "lr_reduce = ReduceLROnPlateau(monitor='val_accuracy', factor=0.6, patience=5, verbose=1, mode='max', min_lr=5e-5)\n",
        "early_stopping_monitor = EarlyStopping(patience=4 ,monitor='val_accuracy', mode = 'auto',verbose=1)\n",
        "\n",
        "\n",
        "checkpoint = ModelCheckpoint('/content/drive/MyDrive/data/COVID-19_Radiography_Dataset/saved_model/vgg16_finetune3.h15', monitor= 'val_accuracy', mode= 'max', save_best_only = True, verbose= 1)"
      ],
      "execution_count": null,
      "outputs": []
    },
    {
      "cell_type": "code",
      "metadata": {
        "id": "g4Gjb6Tfu0TL",
        "colab": {
          "base_uri": "https://localhost:8080/"
        },
        "outputId": "bd43b402-56a5-49ac-9cfe-c92d01bb7f85"
      },
      "source": [
        "from tensorflow.keras import layers, models, Model, optimizers\n",
        "learning_rate= 5e-5\n",
        "transfer_model.compile(loss=\"categorical_crossentropy\", optimizer=optimizers.Adam(lr=learning_rate), metrics=[\"accuracy\"])\n",
        "history2 = transfer_model.fit(train_gen,\n",
        "                              validation_data=val_gen,\n",
        "                              batch_size = 1, \n",
        "                              epochs=50, \n",
        "                              callbacks=[lr_reduce,early_stopping_monitor,checkpoint])\n",
        "transfer_model.save('/content/drive/MyDrive/data/COVID-19_Radiography_Dataset/saved_model/Pretrained_VGG16.h5')\n"
      ],
      "execution_count": null,
      "outputs": [
        {
          "output_type": "stream",
          "name": "stderr",
          "text": [
            "/usr/local/lib/python3.7/dist-packages/keras/optimizer_v2/adam.py:105: UserWarning: The `lr` argument is deprecated, use `learning_rate` instead.\n",
            "  super(Adam, self).__init__(name, **kwargs)\n"
          ]
        },
        {
          "output_type": "stream",
          "name": "stdout",
          "text": [
            "Epoch 1/50\n",
            "758/758 [==============================] - ETA: 0s - loss: 0.3716 - accuracy: 0.8560\n",
            "Epoch 00001: val_accuracy improved from -inf to 0.87120, saving model to /content/drive/MyDrive/data/COVID-19_Radiography_Dataset/saved_model/vgg16_finetune3.h15\n",
            "INFO:tensorflow:Assets written to: /content/drive/MyDrive/data/COVID-19_Radiography_Dataset/saved_model/vgg16_finetune3.h15/assets\n",
            "758/758 [==============================] - 2562s 3s/step - loss: 0.3716 - accuracy: 0.8560 - val_loss: 0.4536 - val_accuracy: 0.8712 - lr: 5.0000e-05\n",
            "Epoch 2/50\n",
            "758/758 [==============================] - ETA: 0s - loss: 0.2091 - accuracy: 0.9222\n",
            "Epoch 00002: val_accuracy improved from 0.87120 to 0.96235, saving model to /content/drive/MyDrive/data/COVID-19_Radiography_Dataset/saved_model/vgg16_finetune3.h15\n",
            "INFO:tensorflow:Assets written to: /content/drive/MyDrive/data/COVID-19_Radiography_Dataset/saved_model/vgg16_finetune3.h15/assets\n",
            "758/758 [==============================] - 246s 324ms/step - loss: 0.2091 - accuracy: 0.9222 - val_loss: 0.1363 - val_accuracy: 0.9624 - lr: 5.0000e-05\n",
            "Epoch 3/50\n",
            "758/758 [==============================] - ETA: 0s - loss: 0.1696 - accuracy: 0.9404\n",
            "Epoch 00003: val_accuracy did not improve from 0.96235\n",
            "758/758 [==============================] - 241s 318ms/step - loss: 0.1696 - accuracy: 0.9404 - val_loss: 0.1732 - val_accuracy: 0.9458 - lr: 5.0000e-05\n",
            "Epoch 4/50\n",
            "758/758 [==============================] - ETA: 0s - loss: 0.1456 - accuracy: 0.9476\n",
            "Epoch 00004: val_accuracy did not improve from 0.96235\n",
            "758/758 [==============================] - 234s 309ms/step - loss: 0.1456 - accuracy: 0.9476 - val_loss: 0.1947 - val_accuracy: 0.9306 - lr: 5.0000e-05\n",
            "Epoch 5/50\n",
            "758/758 [==============================] - ETA: 0s - loss: 0.1334 - accuracy: 0.9523\n",
            "Epoch 00005: val_accuracy did not improve from 0.96235\n",
            "758/758 [==============================] - 236s 312ms/step - loss: 0.1334 - accuracy: 0.9523 - val_loss: 0.1657 - val_accuracy: 0.9505 - lr: 5.0000e-05\n",
            "Epoch 6/50\n",
            "758/758 [==============================] - ETA: 0s - loss: 0.1138 - accuracy: 0.9594\n",
            "Epoch 00006: val_accuracy did not improve from 0.96235\n",
            "758/758 [==============================] - 234s 308ms/step - loss: 0.1138 - accuracy: 0.9594 - val_loss: 0.1428 - val_accuracy: 0.9524 - lr: 5.0000e-05\n",
            "Epoch 00006: early stopping\n"
          ]
        }
      ]
    },
    {
      "cell_type": "code",
      "metadata": {
        "id": "GYLi0YqfvSCR",
        "colab": {
          "base_uri": "https://localhost:8080/",
          "height": 295
        },
        "outputId": "43923273-072b-4dd1-9c9b-f8e24e9425e3"
      },
      "source": [
        "# summarize history for accuracy\n",
        "plt.plot(history2.history['accuracy'])\n",
        "plt.plot(history2.history['val_accuracy'])\n",
        "plt.title('model accuracy')\n",
        "plt.ylabel('accuracy')\n",
        "plt.xlabel('epoch')\n",
        "plt.legend(['train', 'test'], loc='upper left')\n",
        "plt.show()"
      ],
      "execution_count": null,
      "outputs": [
        {
          "output_type": "display_data",
          "data": {
            "image/png": "[encoded data removed]",
            "text/plain": [
              "<Figure size 432x288 with 1 Axes>"
            ]
          },
          "metadata": {
            "needs_background": "light"
          }
        }
      ]
    },
    {
      "cell_type": "code",
      "metadata": {
        "id": "T17EAdc8vvOx",
        "colab": {
          "base_uri": "https://localhost:8080/",
          "height": 295
        },
        "outputId": "3ee4143a-2461-432f-db74-e497a210d25c"
      },
      "source": [
        "# summarize history for loss\n",
        "plt.plot(history2.history['loss'])\n",
        "plt.plot(history2.history['val_loss'])\n",
        "plt.title('model loss')\n",
        "plt.ylabel('loss')\n",
        "plt.xlabel('epoch')\n",
        "plt.legend(['train', 'test'], loc='upper left')\n",
        "plt.show()"
      ],
      "execution_count": null,
      "outputs": [
        {
          "output_type": "display_data",
          "data": {
            "image/png": "[encoded data removed]",
            "text/plain": [
              "<Figure size 432x288 with 1 Axes>"
            ]
          },
          "metadata": {
            "needs_background": "light"
          }
        }
      ]
    },
    {
      "cell_type": "code",
      "metadata": {
        "id": "cRV0FNV3v1uY"
      },
      "source": [
        "# Classification report\n",
        "predictions = transfer_model.predict_generator(test_gen)\n",
        "\n",
        "\n",
        "# Classification Report\n",
        "from sklearn.metrics import classification_report\n",
        "# print(classification_report(test_gen, predictions))"
      ],
      "execution_count": null,
      "outputs": []
    },
    {
      "cell_type": "markdown",
      "metadata": {
        "id": "bcvdRNubctbA"
      },
      "source": [
        "# Loading Saved Model"
      ]
    },
    {
      "cell_type": "code",
      "metadata": {
        "colab": {
          "base_uri": "https://localhost:8080/"
        },
        "id": "PiHM42Ekcaam",
        "outputId": "83485a18-63f6-45ac-80a5-f7d0d68451c1"
      },
      "source": [
        "# Modify 'test1.jpg' and 'test2.jpg' to the images you want to predict on\n",
        "\n",
        "from keras.models import load_model\n",
        "from keras.preprocessing import image\n",
        "import numpy as np\n",
        "\n",
        "# dimensions of our images\n",
        "# img_width, img_height, channel = 256, 256, 3\n",
        "\n",
        "# load the model we saved\n",
        "model = load_model('/content/drive/MyDrive/data/COVID-19_Radiography_Dataset/saved_model/Pretrained_VGG16.h5')\n",
        "# model.compile(loss='categorical_crossentropy',\n",
        "#               optimizer='rmsprop',\n",
        "#               metrics=['accuracy'])\n",
        "\n",
        "# predicting images\n",
        "img = image.load_img('/content/drive/MyDrive/data/COVID-19_Radiography_Dataset/Train_Split_Test/test/COVID/COVID-2620.png', target_size=(224, 224, 3))\n",
        "x = image.img_to_array(img)\n",
        "x = np.expand_dims(x, axis=0)\n",
        "\n",
        "images = np.vstack([x])\n",
        "classe = model.predict(images, batch_size=10)\n",
        "print(\"first image output: \", classe)\n"
      ],
      "execution_count": null,
      "outputs": [
        {
          "output_type": "stream",
          "name": "stdout",
          "text": [
            "first image output:  [[1. 0. 0.]]\n"
          ]
        }
      ]
    },
    {
      "cell_type": "code",
      "metadata": {
        "id": "VUCueYyDD69n"
      },
      "source": [
        "model.summary()"
      ],
      "execution_count": null,
      "outputs": []
    },
    {
      "cell_type": "code",
      "metadata": {
        "id": "uLRKSVendDJx"
      },
      "source": [
        "classes = train_gen.class_indices    \n",
        "print(classes)"
      ],
      "execution_count": null,
      "outputs": []
    },
    {
      "cell_type": "markdown",
      "metadata": {
        "id": "ocZShehOgK3-"
      },
      "source": [
        "## Heatmap "
      ]
    },
    {
      "cell_type": "code",
      "metadata": {
        "id": "WnIHckBTgMlO"
      },
      "source": [
        "# import the necessary packages\n",
        "from tensorflow.keras.applications import ResNet50\n",
        "from tensorflow.keras.applications import VGG16\n",
        "from tensorflow.keras.preprocessing.image import img_to_array\n",
        "from tensorflow.keras.preprocessing.image import load_img\n",
        "from tensorflow.keras.applications import imagenet_utils\n",
        "from tensorflow.keras.models import Model\n",
        "\n",
        "import tensorflow as tf\n",
        "\n",
        "import numpy as np\n",
        "import imutils\n",
        "import cv2"
      ],
      "execution_count": null,
      "outputs": []
    },
    {
      "cell_type": "code",
      "metadata": {
        "id": "iM7jZx9bgcQ8"
      },
      "source": [
        "# load the pre-trained CNN from disk\n",
        "model = load_model('/content/drive/MyDrive/data/COVID-19_Radiography_Dataset/saved_model/Pretrained_VGG16.h5')"
      ],
      "execution_count": null,
      "outputs": []
    },
    {
      "cell_type": "code",
      "metadata": {
        "id": "Knbb1BYfgfq-"
      },
      "source": [
        "# load the original image from disk (in OpenCV format) and then\n",
        "# resize the image to its target dimensions\n",
        "orig = cv2.imread(\"/content/drive/MyDrive/data/COVID-19_Radiography_Dataset/Train_Split_Test/test/COVID/COVID-2620.png\")\n",
        "resized = cv2.resize(orig, (224, 224))"
      ],
      "execution_count": null,
      "outputs": []
    },
    {
      "cell_type": "code",
      "metadata": {
        "id": "k28xDW7ggnM_"
      },
      "source": [
        "# load the input image from disk (in Keras/TensorFlow format) and\n",
        "# preprocess it\n",
        "image = load_img(\"/content/drive/MyDrive/data/COVID-19_Radiography_Dataset/Train_Split_Test/test/COVID/COVID-2620.png\", target_size=(224, 224))\n",
        "image = img_to_array(image)\n",
        "image = np.expand_dims(image, axis=0)\n",
        "image = imagenet_utils.preprocess_input(image)\n",
        "image = np.vstack([image])"
      ],
      "execution_count": null,
      "outputs": []
    },
    {
      "cell_type": "code",
      "metadata": {
        "id": "pWM96_5cgytX"
      },
      "source": [
        "# use the network to make predictions on the input imag and find\n",
        "# the class label index with the largest corresponding probability\n",
        "preds = model.predict(image)\n",
        "i = np.argmax(preds[0])"
      ],
      "execution_count": null,
      "outputs": []
    },
    {
      "cell_type": "code",
      "metadata": {
        "colab": {
          "base_uri": "https://localhost:8080/"
        },
        "id": "tqMQufR4hMgf",
        "outputId": "23893203-50c6-4492-941d-c973debdf8c3"
      },
      "source": [
        "print(preds)"
      ],
      "execution_count": null,
      "outputs": [
        {
          "output_type": "stream",
          "name": "stdout",
          "text": [
            "[[1. 0. 0.]]\n"
          ]
        }
      ]
    },
    {
      "cell_type": "code",
      "metadata": {
        "id": "b-ILUrQ7g1i0"
      },
      "source": [
        "# decode the ImageNet predictions to obtain the human-readable label\n",
        "decoded = imagenet_utils.decode_predictions(classe)\n",
        "(imagenetID, label, prob) = decoded[0][0]\n",
        "label = \"{}: {:.2f}%\".format(label, prob * 100)\n",
        "print(\"[INFO] {}\".format(label))"
      ],
      "execution_count": null,
      "outputs": []
    },
    {
      "cell_type": "code",
      "metadata": {
        "id": "7K8AnSyug1_a"
      },
      "source": [
        "class GradCAM:\n",
        "    def __init__(self, model, classIdx, layerName=None):\n",
        "        # store the model, the class index used to measure the class\n",
        "        # activation map, and the layer to be used when visualizing\n",
        "        # the class activation map\n",
        "        self.model = model\n",
        "        self.classIdx = classIdx\n",
        "        self.layerName = layerName\n",
        "\n",
        "        # if the layer name is None, attempt to automatically find\n",
        "        # the target output layer\n",
        "        if self.layerName is None:\n",
        "            self.layerName = self.find_target_layer()\n",
        "\n",
        "    def find_target_layer(self):\n",
        "        # attempt to find the final convolutional layer in the network\n",
        "        # by looping over the layers of the network in reverse order\n",
        "        for layer in reversed(self.model.layers):\n",
        "            # check to see if the layer has a 4D output\n",
        "            if len(layer.output.shape) == 4:\n",
        "                return layer.name\n",
        "\n",
        "        # otherwise, we could not find a 4D layer so the GradCAM\n",
        "        # algorithm cannot be applied\n",
        "        raise ValueError(\"Could not find 4D layer. Cannot apply GradCAM.\")\n",
        "\n",
        "    def compute_heatmap(self, image, eps=1e-8):\n",
        "        # construct our gradient model by supplying (1) the inputs\n",
        "        # to our pre-trained model, (2) the output of the (presumably)\n",
        "        # final 4D layer in the network, and (3) the output of the\n",
        "        # softmax activations from the model\n",
        "        gradModel = Model(inputs=[self.model.inputs], outputs= [self.model.get_layer(self.layerName).output, self.model.output])\n",
        "              # record operations for automatic differentiation\n",
        "        with tf.GradientTape() as tape:\n",
        "            # cast the image tensor to a float-32 data type, pass the\n",
        "            # image through the gradient model, and grab the loss\n",
        "            # associated with the specific class index\n",
        "            inputs = tf.cast(image, tf.float32)\n",
        "            (convOutputs, predictions) = gradModel(inputs)\n",
        "            loss = predictions[:, self.classIdx]\n",
        "\n",
        "        # use automatic differentiation to compute the gradients\n",
        "        grads = tape.gradient(loss, convOutputs)\n",
        "\n",
        "        # compute the guided gradients\n",
        "        castConvOutputs = tf.cast(convOutputs > 0, \"float32\")\n",
        "        castGrads = tf.cast(grads > 0, \"float32\")\n",
        "        guidedGrads = castConvOutputs * castGrads * grads\n",
        "\n",
        "        # the convolution and guided gradients have a batch dimension\n",
        "        # (which we don't need) so let's grab the volume itself and\n",
        "        # discard the batch\n",
        "        convOutputs = convOutputs[0]\n",
        "        guidedGrads = guidedGrads[0]\n",
        "\n",
        "        # compute the average of the gradient values, and using them\n",
        "        # as weights, compute the ponderation of the filters with\n",
        "        # respect to the weights\n",
        "        weights = tf.reduce_mean(guidedGrads, axis=(0, 1))\n",
        "        cam = tf.reduce_sum(tf.multiply(weights, convOutputs), axis=-1)\n",
        "\n",
        "        # grab the spatial dimensions of the input image and resize\n",
        "        # the output class activation map to match the input image\n",
        "        # dimensions\n",
        "        (w, h) = (image.shape[2], image.shape[1])\n",
        "        heatmap = cv2.resize(cam.numpy(), (w, h))\n",
        "\n",
        "        # normalize the heatmap such that all values lie in the range\n",
        "        # [0, 1], scale the resulting values to the range [0, 255],\n",
        "        # and then convert to an unsigned 8-bit integer\n",
        "        numer = heatmap - np.min(heatmap)\n",
        "        denom = (heatmap.max() - heatmap.min()) + eps\n",
        "        heatmap = numer / denom\n",
        "        heatmap = (heatmap * 255).astype(\"uint8\")\n",
        "\n",
        "        # return the resulting heatmap to the calling function\n",
        "        return heatmap\n",
        "    def overlay_heatmap(self, heatmap, image, alpha=0.5,\n",
        "        colormap=cv2.COLORMAP_JET):\n",
        "        # apply the supplied color map to the heatmap and then\n",
        "        # overlay the heatmap on the input image\n",
        "        heatmap = cv2.applyColorMap(heatmap, colormap)\n",
        "        output = cv2.addWeighted(image, alpha, heatmap, 1 - alpha, 0)\n",
        "\n",
        "        # return a 2-tuple of the color mapped heatmap and the output,\n",
        "        # overlaid image\n",
        "        return (heatmap, output)"
      ],
      "execution_count": null,
      "outputs": []
    },
    {
      "cell_type": "code",
      "metadata": {
        "id": "o4ydKa9_ifop"
      },
      "source": [
        "# initialize our gradient class activation map and build the heatmap\n",
        "cam = GradCAM(model, i)\n",
        "heatmap = cam.compute_heatmap(image)"
      ],
      "execution_count": null,
      "outputs": []
    },
    {
      "cell_type": "code",
      "metadata": {
        "id": "2OfANYyAiso5"
      },
      "source": [
        "# resize the resulting heatmap to the original input image dimensions\n",
        "# and then overlay heatmap on top of the image\n",
        "heatmap = cv2.resize(heatmap, (orig.shape[1], orig.shape[0]))\n",
        "(heatmap, output) = cam.overlay_heatmap(heatmap, orig, alpha=0.5)"
      ],
      "execution_count": null,
      "outputs": []
    },
    {
      "cell_type": "code",
      "metadata": {
        "id": "RHqHEELVivrJ"
      },
      "source": [
        "import cv2\n",
        "from matplotlib import pyplot as plt\n",
        "from google.colab.patches import cv2_imshow"
      ],
      "execution_count": null,
      "outputs": []
    },
    {
      "cell_type": "code",
      "metadata": {
        "id": "ub_lHKZPiyFu"
      },
      "source": [
        "# draw the predicted label on the output image\n",
        "cv2.rectangle(output, (0, 0), (340, 40), (0, 0, 0), -1)\n",
        "# cv2.putText(output, label, (10, 25), cv2.FONT_HERSHEY_SIMPLEX, 0.8, (255, 255, 255), 2)\n",
        "\n",
        "# display the original image and resulting heatmap and output image\n",
        "# to our screen\n",
        "#output = np.vstack([resized, heatmap, output])\n",
        "output = imutils.resize(output, height=700)\n",
        "#cv2.imshow(\"Output\", output)\n",
        "cv2.waitKey(0)\n",
        "cv2.destroyAllWindows()\n"
      ],
      "execution_count": null,
      "outputs": []
    },
    {
      "cell_type": "code",
      "metadata": {
        "colab": {
          "base_uri": "https://localhost:8080/"
        },
        "id": "qNx7_5T_i7NA",
        "outputId": "ac563d6f-466f-463e-8915-1eb8412b6bc1"
      },
      "source": [
        "filename = 'xray_covid.png'\n",
        "cv2.imwrite(filename, output)"
      ],
      "execution_count": null,
      "outputs": [
        {
          "output_type": "execute_result",
          "data": {
            "text/plain": [
              "True"
            ]
          },
          "metadata": {},
          "execution_count": 43
        }
      ]
    },
    {
      "cell_type": "code",
      "metadata": {
        "id": "hzg6rcJZi5T_"
      },
      "source": [
        "cv2"
      ],
      "execution_count": null,
      "outputs": []
    }
  ]
}